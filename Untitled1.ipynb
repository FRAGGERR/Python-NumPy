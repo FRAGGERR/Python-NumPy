{
 "cells": [
  {
   "cell_type": "markdown",
   "id": "d69fc5b5",
   "metadata": {},
   "source": [
    "**CONVERSTION : FROM OTHER PYHTON STRUCTURES TO NUMPY STRUCTURE**"
   ]
  },
  {
   "cell_type": "code",
   "execution_count": 1,
   "id": "9896667c",
   "metadata": {},
   "outputs": [],
   "source": [
    "import numpy as np"
   ]
  },
  {
   "cell_type": "code",
   "execution_count": 2,
   "id": "9186940a",
   "metadata": {},
   "outputs": [],
   "source": [
    "import sklearn"
   ]
  },
  {
   "cell_type": "code",
   "execution_count": 3,
   "id": "3a952fbf",
   "metadata": {},
   "outputs": [],
   "source": [
    "myarr1 = np.array([1,2,3,4,5,6,7,8,9,100], np.int32)"
   ]
  },
  {
   "cell_type": "code",
   "execution_count": 4,
   "id": "d3a3a8fe",
   "metadata": {},
   "outputs": [
    {
     "data": {
      "text/plain": [
       "array([  1,   2,   3,   4,   5,   6,   7,   8,   9, 100], dtype=int32)"
      ]
     },
     "execution_count": 4,
     "metadata": {},
     "output_type": "execute_result"
    }
   ],
   "source": [
    "myarr1"
   ]
  },
  {
   "cell_type": "code",
   "execution_count": 5,
   "id": "70170491",
   "metadata": {},
   "outputs": [
    {
     "data": {
      "text/plain": [
       "(10,)"
      ]
     },
     "execution_count": 5,
     "metadata": {},
     "output_type": "execute_result"
    }
   ],
   "source": [
    "myarr1.shape"
   ]
  },
  {
   "cell_type": "code",
   "execution_count": 6,
   "id": "d375b933",
   "metadata": {},
   "outputs": [],
   "source": [
    "myarr = np.array([[1,2,3,4,5,6,7,8,9,101]], np.int32)"
   ]
  },
  {
   "cell_type": "code",
   "execution_count": 7,
   "id": "b51109c1",
   "metadata": {},
   "outputs": [
    {
     "data": {
      "text/plain": [
       "array([[  1,   2,   3,   4,   5,   6,   7,   8,   9, 101]], dtype=int32)"
      ]
     },
     "execution_count": 7,
     "metadata": {},
     "output_type": "execute_result"
    }
   ],
   "source": [
    "myarr"
   ]
  },
  {
   "cell_type": "code",
   "execution_count": 8,
   "id": "f8dc50cf",
   "metadata": {},
   "outputs": [
    {
     "data": {
      "text/plain": [
       "(1, 10)"
      ]
     },
     "execution_count": 8,
     "metadata": {},
     "output_type": "execute_result"
    }
   ],
   "source": [
    "myarr.shape\n"
   ]
  },
  {
   "cell_type": "code",
   "execution_count": 9,
   "id": "d8dc6b6d",
   "metadata": {},
   "outputs": [],
   "source": [
    "myarr2 = np.array([[1,2,3,4,5],[6,7,8,9,10],[11,12,13,14,15],[16,17,18,19,20]])"
   ]
  },
  {
   "cell_type": "code",
   "execution_count": 10,
   "id": "8a6101a7",
   "metadata": {},
   "outputs": [
    {
     "data": {
      "text/plain": [
       "array([[ 1,  2,  3,  4,  5],\n",
       "       [ 6,  7,  8,  9, 10],\n",
       "       [11, 12, 13, 14, 15],\n",
       "       [16, 17, 18, 19, 20]])"
      ]
     },
     "execution_count": 10,
     "metadata": {},
     "output_type": "execute_result"
    }
   ],
   "source": [
    "myarr2"
   ]
  },
  {
   "cell_type": "code",
   "execution_count": 11,
   "id": "a828e39e",
   "metadata": {},
   "outputs": [
    {
     "data": {
      "text/plain": [
       "(4, 5)"
      ]
     },
     "execution_count": 11,
     "metadata": {},
     "output_type": "execute_result"
    }
   ],
   "source": [
    "myarr2.shape"
   ]
  },
  {
   "cell_type": "code",
   "execution_count": 12,
   "id": "1b801481",
   "metadata": {},
   "outputs": [
    {
     "data": {
      "text/plain": [
       "dtype('int32')"
      ]
     },
     "execution_count": 12,
     "metadata": {},
     "output_type": "execute_result"
    }
   ],
   "source": [
    " myarr.dtype"
   ]
  },
  {
   "cell_type": "code",
   "execution_count": 13,
   "id": "5ce473ae",
   "metadata": {},
   "outputs": [],
   "source": [
    "myarr2[3,4] = 28"
   ]
  },
  {
   "cell_type": "code",
   "execution_count": 14,
   "id": "f749fe5c",
   "metadata": {},
   "outputs": [
    {
     "data": {
      "text/plain": [
       "array([[ 1,  2,  3,  4,  5],\n",
       "       [ 6,  7,  8,  9, 10],\n",
       "       [11, 12, 13, 14, 15],\n",
       "       [16, 17, 18, 19, 28]])"
      ]
     },
     "execution_count": 14,
     "metadata": {},
     "output_type": "execute_result"
    }
   ],
   "source": [
    "myarr2"
   ]
  },
  {
   "cell_type": "code",
   "execution_count": 16,
   "id": "49d086e2",
   "metadata": {},
   "outputs": [
    {
     "data": {
      "text/plain": [
       "array([[  1,   2,   3,   4,   5,   6,   7,   8,   9, 101]], dtype=int32)"
      ]
     },
     "execution_count": 16,
     "metadata": {},
     "output_type": "execute_result"
    }
   ],
   "source": [
    "  myarr"
   ]
  },
  {
   "cell_type": "code",
   "execution_count": 17,
   "id": "2a9c00bf",
   "metadata": {},
   "outputs": [
    {
     "data": {
      "text/plain": [
       "20"
      ]
     },
     "execution_count": 17,
     "metadata": {},
     "output_type": "execute_result"
    }
   ],
   "source": [
    "myarr2.size"
   ]
  },
  {
   "cell_type": "code",
   "execution_count": 24,
   "id": "3522f789",
   "metadata": {},
   "outputs": [],
   "source": [
    "  myarr3 = np.array({34,35,36,37,38})"
   ]
  },
  {
   "cell_type": "code",
   "execution_count": 29,
   "id": "a3e6bf85",
   "metadata": {},
   "outputs": [
    {
     "data": {
      "text/plain": [
       "array({34}, dtype=object)"
      ]
     },
     "execution_count": 29,
     "metadata": {},
     "output_type": "execute_result"
    }
   ],
   "source": [
    "np.array({34,34,34})"
   ]
  },
  {
   "cell_type": "markdown",
   "id": "aaad48df",
   "metadata": {},
   "source": [
    "Data type   Description\n",
    "bool_   Boolean (True or False) stored as a byte\n",
    "int_    Default integer type (same as C long; normally either int64 or int32)\n",
    "intc    Identical to C int (normally int32 or int64)\n",
    "intp    Integer used for indexing (same as C ssize_t; normally either int32 or int64)\n",
    "int8    Byte (-128 to 127)\n",
    "int16   Integer (-32768 to 32767)\n",
    "int32   Integer (-2147483648 to 2147483647)\n",
    "int64   Integer (-9223372036854775808 to 9223372036854775807)\n",
    "uint8   Unsigned integer (0 to 255)\n",
    "uint16  Unsigned integer (0 to 65535)\n",
    "uint32  Unsigned integer (0 to 4294967295)\n",
    "uint64  Unsigned integer (0 to 18446744073709551615)\n",
    "float_  Shorthand for float64.\n",
    "float16 Half precision float: sign bit, 5 bits exponent, 10 bits mantissa\n",
    "float32 Single precision float: sign bit, 8 bits exponent, 23 bits mantissa\n",
    "float64 Double precision float: sign bit, 11 bits exponent, 52 bits mantissa\n",
    "complex_    Shorthand for complex128.\n",
    "complex64   Complex number, represented by two 32-bit floats (real and imaginary components)\n",
    "complex128  Complex number, represented by two 64-bit floats (real and imaginary components)"
   ]
  },
  {
   "cell_type": "markdown",
   "id": "0bb6fb78",
   "metadata": {},
   "source": [
    "https://numpy.org/doc/stable/user/absolute_beginners.html#basic-array-operations"
   ]
  },
  {
   "cell_type": "markdown",
   "id": "5c1c2052",
   "metadata": {},
   "source": [
    "**Some Basic Functions which we can perform in NUMPY**"
   ]
  },
  {
   "cell_type": "code",
   "execution_count": 41,
   "id": "97d40423",
   "metadata": {},
   "outputs": [],
   "source": [
    "zero = np.zeros((2,5)) #this will create a matrix whos size is given by user and put all the elements as zero = 0."
   ]
  },
  {
   "cell_type": "code",
   "execution_count": 42,
   "id": "fa95aa2e",
   "metadata": {},
   "outputs": [
    {
     "data": {
      "text/plain": [
       "array([[0., 0., 0., 0., 0.],\n",
       "       [0., 0., 0., 0., 0.]])"
      ]
     },
     "execution_count": 42,
     "metadata": {},
     "output_type": "execute_result"
    }
   ],
   "source": [
    "zero"
   ]
  },
  {
   "cell_type": "code",
   "execution_count": 36,
   "id": "e3c0e6f7",
   "metadata": {},
   "outputs": [],
   "source": [
    "rang = np.arange(15) #this will give us a matrix which have numbers in range 0 to 15 and in python we are not going to count the last element."
   ]
  },
  {
   "cell_type": "code",
   "execution_count": 37,
   "id": "f1e23942",
   "metadata": {},
   "outputs": [
    {
     "data": {
      "text/plain": [
       "array([ 0,  1,  2,  3,  4,  5,  6,  7,  8,  9, 10, 11, 12, 13, 14])"
      ]
     },
     "execution_count": 37,
     "metadata": {},
     "output_type": "execute_result"
    }
   ],
   "source": [
    "rang"
   ]
  },
  {
   "cell_type": "code",
   "execution_count": 44,
   "id": "38326743",
   "metadata": {},
   "outputs": [],
   "source": [
    "lspace = np.linspace(1,5,8)"
   ]
  },
  {
   "cell_type": "code",
   "execution_count": 45,
   "id": "c7787eef",
   "metadata": {},
   "outputs": [
    {
     "data": {
      "text/plain": [
       "array([1.        , 1.57142857, 2.14285714, 2.71428571, 3.28571429,\n",
       "       3.85714286, 4.42857143, 5.        ])"
      ]
     },
     "execution_count": 45,
     "metadata": {},
     "output_type": "execute_result"
    }
   ],
   "source": [
    "lspace"
   ]
  },
  {
   "cell_type": "markdown",
   "id": "db36e526",
   "metadata": {},
   "source": [
    "In linspace (1,5,8) this function will divide it and the starting is from = 1 and the ending is from = 5 and the number of elements which it will give is = 8"
   ]
  },
  {
   "cell_type": "code",
   "execution_count": 56,
   "id": "d9947555",
   "metadata": {},
   "outputs": [],
   "source": [
    "ide = np.identity(50) # As we know the matrix identity function create a matrix which have only elements on diagonls."
   ]
  },
  {
   "cell_type": "code",
   "execution_count": 47,
   "id": "844a5e30",
   "metadata": {},
   "outputs": [
    {
     "name": "stdout",
     "output_type": "stream",
     "text": [
      "[[1. 0. 0. ... 0. 0. 0.]\n",
      " [0. 1. 0. ... 0. 0. 0.]\n",
      " [0. 0. 1. ... 0. 0. 0.]\n",
      " ...\n",
      " [0. 0. 0. ... 1. 0. 0.]\n",
      " [0. 0. 0. ... 0. 1. 0.]\n",
      " [0. 0. 0. ... 0. 0. 1.]]\n"
     ]
    }
   ],
   "source": [
    "print(ide)"
   ]
  },
  {
   "cell_type": "code",
   "execution_count": 48,
   "id": "04ffce84",
   "metadata": {},
   "outputs": [
    {
     "data": {
      "text/plain": [
       "array([[1., 0., 0., ..., 0., 0., 0.],\n",
       "       [0., 1., 0., ..., 0., 0., 0.],\n",
       "       [0., 0., 1., ..., 0., 0., 0.],\n",
       "       ...,\n",
       "       [0., 0., 0., ..., 1., 0., 0.],\n",
       "       [0., 0., 0., ..., 0., 1., 0.],\n",
       "       [0., 0., 0., ..., 0., 0., 1.]])"
      ]
     },
     "execution_count": 48,
     "metadata": {},
     "output_type": "execute_result"
    }
   ],
   "source": [
    "ide"
   ]
  },
  {
   "cell_type": "code",
   "execution_count": 55,
   "id": "f21cc991",
   "metadata": {},
   "outputs": [],
   "source": [
    "emp = np.empty((11,12))#this will create an empty array which can have some values,\n",
    "                       #on that array we can assign any sepcific values."
   ]
  },
  {
   "cell_type": "code",
   "execution_count": 54,
   "id": "162e56cc",
   "metadata": {},
   "outputs": [
    {
     "data": {
      "text/plain": [
       "array([[0.00000000e+000, 3.01380044e-322, 0.00000000e+000,\n",
       "        2.17213117e-314, 2.38247220e-314, 4.94065646e-324,\n",
       "                    nan,             nan, 2.38233847e-314,\n",
       "                    nan, 2.17213116e-314, 2.38241688e-314],\n",
       "       [2.33419537e-313, 0.00000000e+000, 0.00000000e+000,\n",
       "        2.38233847e-314, 2.12199579e-314, 2.15488522e-314,\n",
       "        2.38241688e-314, 1.48539705e-313, 2.76676762e-322,\n",
       "        0.00000000e+000, 2.38241688e-314, 2.12199579e-314],\n",
       "       [2.15488522e-314, 2.38241688e-314, 6.36598737e-314,\n",
       "        5.53353523e-322, 0.00000000e+000, 4.24399158e-314,\n",
       "        2.12199579e-314, 2.15488525e-314, 2.38241688e-314,\n",
       "        1.90979621e-313, 8.30030285e-322, 1.48219694e-323],\n",
       "       [2.38233847e-314, 2.12199579e-314, 2.15488526e-314,\n",
       "        2.38241689e-314, 1.90979621e-313, 1.10670705e-321,\n",
       "        2.38241674e-314, 2.38233847e-314, 6.36598738e-314,\n",
       "        2.15488530e-314, 2.38241689e-314, 1.90979621e-313],\n",
       "       [1.38338381e-321, 9.88131292e-323, 2.38233847e-314,\n",
       "        6.36598738e-314, 2.15488530e-314, 2.38241690e-314,\n",
       "        2.33419537e-313, 1.66006057e-321, 2.38241674e-314,\n",
       "        0.00000000e+000, 0.00000000e+000, 2.15488531e-314],\n",
       "       [0.00000000e+000, 2.12199579e-313, 1.93673733e-321,\n",
       "        0.00000000e+000, 0.00000000e+000, 0.00000000e+000,\n",
       "        2.38241674e-314, 0.00000000e+000, 2.38241674e-314,\n",
       "        0.00000000e+000, 2.38241674e-314, 0.00000000e+000],\n",
       "       [2.38241674e-314, 0.00000000e+000, 0.00000000e+000,\n",
       "        2.38241674e-314,             nan, 2.19663287e-314,\n",
       "        2.38241674e-314, 4.24399158e-314, 1.93673733e-321,\n",
       "        2.38241674e-314, 0.00000000e+000, 0.00000000e+000],\n",
       "       [0.00000000e+000, 0.00000000e+000, 0.00000000e+000,\n",
       "        0.00000000e+000, 0.00000000e+000, 0.00000000e+000,\n",
       "        0.00000000e+000, 2.38241674e-314, 0.00000000e+000,\n",
       "        2.38241674e-314, 0.00000000e+000, 2.38241674e-314],\n",
       "       [0.00000000e+000, 2.38241674e-314, 4.94065646e-324,\n",
       "        2.38233847e-314,             nan, 2.19663289e-314,\n",
       "        2.38241674e-314, 1.90979621e-313, 2.92486862e-321,\n",
       "        2.38241674e-314, 0.00000000e+000, 0.00000000e+000],\n",
       "       [0.00000000e+000, 0.00000000e+000, 0.00000000e+000,\n",
       "        0.00000000e+000, 0.00000000e+000, 0.00000000e+000,\n",
       "        0.00000000e+000, 2.38241674e-314, 0.00000000e+000,\n",
       "        2.38241674e-314, 0.00000000e+000, 2.38241674e-314],\n",
       "       [0.00000000e+000, 2.38241674e-314, 2.38241674e-314,\n",
       "        0.00000000e+000, 0.00000000e+000,             nan,\n",
       "        2.19663286e-314, 0.00000000e+000, 4.24399158e-314,\n",
       "        3.87347466e-321, 0.00000000e+000, 0.00000000e+000]])"
      ]
     },
     "execution_count": 54,
     "metadata": {},
     "output_type": "execute_result"
    }
   ],
   "source": [
    "emp"
   ]
  },
  {
   "cell_type": "code",
   "execution_count": 51,
   "id": "e7d76b16",
   "metadata": {},
   "outputs": [],
   "source": [
    "emp_like = np.empty_like(lspace) "
   ]
  },
  {
   "cell_type": "code",
   "execution_count": 52,
   "id": "00964b83",
   "metadata": {},
   "outputs": [
    {
     "data": {
      "text/plain": [
       "array([1.        , 1.57142857, 2.14285714, 2.71428571, 3.28571429,\n",
       "       3.85714286, 4.42857143, 5.        ])"
      ]
     },
     "execution_count": 52,
     "metadata": {},
     "output_type": "execute_result"
    }
   ],
   "source": [
    "emp_like"
   ]
  },
  {
   "cell_type": "code",
   "execution_count": 57,
   "id": "a6933005",
   "metadata": {},
   "outputs": [],
   "source": [
    "arr = np.arange(99)"
   ]
  },
  {
   "cell_type": "code",
   "execution_count": 58,
   "id": "5edf7ca9",
   "metadata": {},
   "outputs": [
    {
     "data": {
      "text/plain": [
       "array([ 0,  1,  2,  3,  4,  5,  6,  7,  8,  9, 10, 11, 12, 13, 14, 15, 16,\n",
       "       17, 18, 19, 20, 21, 22, 23, 24, 25, 26, 27, 28, 29, 30, 31, 32, 33,\n",
       "       34, 35, 36, 37, 38, 39, 40, 41, 42, 43, 44, 45, 46, 47, 48, 49, 50,\n",
       "       51, 52, 53, 54, 55, 56, 57, 58, 59, 60, 61, 62, 63, 64, 65, 66, 67,\n",
       "       68, 69, 70, 71, 72, 73, 74, 75, 76, 77, 78, 79, 80, 81, 82, 83, 84,\n",
       "       85, 86, 87, 88, 89, 90, 91, 92, 93, 94, 95, 96, 97, 98])"
      ]
     },
     "execution_count": 58,
     "metadata": {},
     "output_type": "execute_result"
    }
   ],
   "source": [
    "arr"
   ]
  },
  {
   "cell_type": "code",
   "execution_count": 60,
   "id": "f43d8f6b",
   "metadata": {},
   "outputs": [
    {
     "data": {
      "text/plain": [
       "array([[ 0,  1,  2,  3,  4,  5,  6,  7,  8,  9, 10, 11, 12, 13, 14, 15,\n",
       "        16, 17, 18, 19, 20, 21, 22, 23, 24, 25, 26, 27, 28, 29, 30, 31,\n",
       "        32],\n",
       "       [33, 34, 35, 36, 37, 38, 39, 40, 41, 42, 43, 44, 45, 46, 47, 48,\n",
       "        49, 50, 51, 52, 53, 54, 55, 56, 57, 58, 59, 60, 61, 62, 63, 64,\n",
       "        65],\n",
       "       [66, 67, 68, 69, 70, 71, 72, 73, 74, 75, 76, 77, 78, 79, 80, 81,\n",
       "        82, 83, 84, 85, 86, 87, 88, 89, 90, 91, 92, 93, 94, 95, 96, 97,\n",
       "        98]])"
      ]
     },
     "execution_count": 60,
     "metadata": {},
     "output_type": "execute_result"
    }
   ],
   "source": [
    " arr.reshape(3,33) #this'll reshape the array as per the demand."
   ]
  },
  {
   "cell_type": "markdown",
   "id": "589b3f53",
   "metadata": {},
   "source": [
    "Axis : on dimensional array have only one axis which is axis 0. If the array is two dimensional array then there are two axis - axis : 0[for row], axis : 1[for column]."
   ]
  },
  {
   "cell_type": "markdown",
   "id": "74694d56",
   "metadata": {},
   "source": [
    "# Axis"
   ]
  },
  {
   "cell_type": "code",
   "execution_count": 93,
   "id": "9d17e7e8",
   "metadata": {},
   "outputs": [],
   "source": [
    "x = [[1,2,3],[4,5,6],[7,1,0]]"
   ]
  },
  {
   "cell_type": "code",
   "execution_count": 94,
   "id": "e16e09ba",
   "metadata": {},
   "outputs": [],
   "source": [
    "arr = np.array(x)"
   ]
  },
  {
   "cell_type": "code",
   "execution_count": 95,
   "id": "d1eafae0",
   "metadata": {},
   "outputs": [
    {
     "data": {
      "text/plain": [
       "[[1, 2, 3], [4, 5, 6], [7, 1, 0]]"
      ]
     },
     "execution_count": 95,
     "metadata": {},
     "output_type": "execute_result"
    }
   ],
   "source": [
    "x"
   ]
  },
  {
   "cell_type": "code",
   "execution_count": 96,
   "id": "0992bdb6",
   "metadata": {},
   "outputs": [
    {
     "data": {
      "text/plain": [
       "array([[1, 2, 3],\n",
       "       [4, 5, 6],\n",
       "       [7, 1, 0]])"
      ]
     },
     "execution_count": 96,
     "metadata": {},
     "output_type": "execute_result"
    }
   ],
   "source": [
    "arr"
   ]
  },
  {
   "cell_type": "code",
   "execution_count": 97,
   "id": "81c17f65",
   "metadata": {},
   "outputs": [
    {
     "data": {
      "text/plain": [
       "array([12,  8,  9])"
      ]
     },
     "execution_count": 97,
     "metadata": {},
     "output_type": "execute_result"
    }
   ],
   "source": [
    "arr.sum(axis = 0)"
   ]
  },
  {
   "cell_type": "code",
   "execution_count": 98,
   "id": "128a73dc",
   "metadata": {},
   "outputs": [
    {
     "data": {
      "text/plain": [
       "array([ 6, 15,  8])"
      ]
     },
     "execution_count": 98,
     "metadata": {},
     "output_type": "execute_result"
    }
   ],
   "source": [
    "arr.sum(axis = 1)"
   ]
  },
  {
   "cell_type": "code",
   "execution_count": 99,
   "id": "5dc2f489",
   "metadata": {},
   "outputs": [
    {
     "name": "stdout",
     "output_type": "stream",
     "text": [
      "1\n",
      "2\n",
      "3\n",
      "4\n",
      "5\n",
      "6\n",
      "7\n",
      "1\n",
      "0\n"
     ]
    }
   ],
   "source": [
    "\n",
    "arr.flat\n",
    "for i in arr.flat:\n",
    "    print(i)"
   ]
  },
  {
   "cell_type": "code",
   "execution_count": 100,
   "id": "3f8a3774",
   "metadata": {},
   "outputs": [
    {
     "data": {
      "text/plain": [
       "array([[1, 4, 7],\n",
       "       [2, 5, 1],\n",
       "       [3, 6, 0]])"
      ]
     },
     "execution_count": 100,
     "metadata": {},
     "output_type": "execute_result"
    }
   ],
   "source": [
    "arr.T"
   ]
  },
  {
   "cell_type": "code",
   "execution_count": 101,
   "id": "6a3472a6",
   "metadata": {},
   "outputs": [
    {
     "data": {
      "text/plain": [
       "2"
      ]
     },
     "execution_count": 101,
     "metadata": {},
     "output_type": "execute_result"
    }
   ],
   "source": [
    "arr.ndim"
   ]
  },
  {
   "cell_type": "code",
   "execution_count": 102,
   "id": "74d2c4ef",
   "metadata": {},
   "outputs": [
    {
     "data": {
      "text/plain": [
       "9"
      ]
     },
     "execution_count": 102,
     "metadata": {},
     "output_type": "execute_result"
    }
   ],
   "source": [
    "arr.size"
   ]
  },
  {
   "cell_type": "code",
   "execution_count": 103,
   "id": "9d32a1cc",
   "metadata": {},
   "outputs": [
    {
     "data": {
      "text/plain": [
       "(3, 3)"
      ]
     },
     "execution_count": 103,
     "metadata": {},
     "output_type": "execute_result"
    }
   ],
   "source": [
    "arr.shape"
   ]
  },
  {
   "cell_type": "code",
   "execution_count": 104,
   "id": "a2b36abf",
   "metadata": {},
   "outputs": [
    {
     "data": {
      "text/plain": [
       "72"
      ]
     },
     "execution_count": 104,
     "metadata": {},
     "output_type": "execute_result"
    }
   ],
   "source": [
    "arr.nbytes #this will show how much the bits does consume by the array."
   ]
  },
  {
   "cell_type": "markdown",
   "id": "496ea96f",
   "metadata": {},
   "source": [
    "WE HAVE TO PREPARE OURSELEF WITH THE GOOD KNOWLEDGE OF *ATTRIBUTES* AND *ARGUMENTS*"
   ]
  },
  {
   "cell_type": "code",
   "execution_count": 105,
   "id": "5ff13ab4",
   "metadata": {},
   "outputs": [],
   "source": [
    "one = np.array([1,2,3,44,5,66,777])"
   ]
  },
  {
   "cell_type": "code",
   "execution_count": 106,
   "id": "8f5f3869",
   "metadata": {},
   "outputs": [
    {
     "data": {
      "text/plain": [
       "array([  1,   2,   3,  44,   5,  66, 777])"
      ]
     },
     "execution_count": 106,
     "metadata": {},
     "output_type": "execute_result"
    }
   ],
   "source": [
    "one"
   ]
  },
  {
   "cell_type": "code",
   "execution_count": 107,
   "id": "19f9f396",
   "metadata": {},
   "outputs": [
    {
     "data": {
      "text/plain": [
       "0"
      ]
     },
     "execution_count": 107,
     "metadata": {},
     "output_type": "execute_result"
    }
   ],
   "source": [
    "one.argmin()#Output will come one the behalf of indexing"
   ]
  },
  {
   "cell_type": "code",
   "execution_count": 108,
   "id": "bd76de59",
   "metadata": {},
   "outputs": [
    {
     "data": {
      "text/plain": [
       "6"
      ]
     },
     "execution_count": 108,
     "metadata": {},
     "output_type": "execute_result"
    }
   ],
   "source": [
    "one.argmax()#Output will come one the behalf of indexing"
   ]
  },
  {
   "cell_type": "code",
   "execution_count": 109,
   "id": "74829e17",
   "metadata": {},
   "outputs": [
    {
     "data": {
      "text/plain": [
       "array([0, 1, 2, 4, 3, 5, 6])"
      ]
     },
     "execution_count": 109,
     "metadata": {},
     "output_type": "execute_result"
    }
   ],
   "source": [
    "one.argsort()#Output will come one the behalf of indexing"
   ]
  },
  {
   "cell_type": "code",
   "execution_count": 110,
   "id": "c3cc03d2",
   "metadata": {},
   "outputs": [
    {
     "data": {
      "text/plain": [
       "0"
      ]
     },
     "execution_count": 110,
     "metadata": {},
     "output_type": "execute_result"
    }
   ],
   "source": [
    "one.argmin()"
   ]
  },
  {
   "cell_type": "code",
   "execution_count": 111,
   "id": "862fc18f",
   "metadata": {},
   "outputs": [
    {
     "data": {
      "text/plain": [
       "array([2, 1, 1])"
      ]
     },
     "execution_count": 111,
     "metadata": {},
     "output_type": "execute_result"
    }
   ],
   "source": [
    "arr.argmax(axis = 0)"
   ]
  },
  {
   "cell_type": "code",
   "execution_count": 112,
   "id": "829c4a2a",
   "metadata": {},
   "outputs": [
    {
     "data": {
      "text/plain": [
       "array([2, 2, 0])"
      ]
     },
     "execution_count": 112,
     "metadata": {},
     "output_type": "execute_result"
    }
   ],
   "source": [
    " arr.argmax(axis = 1)"
   ]
  },
  {
   "cell_type": "code",
   "execution_count": 115,
   "id": "8d07aaab",
   "metadata": {},
   "outputs": [
    {
     "data": {
      "text/plain": [
       "array([[0, 1, 2],\n",
       "       [0, 1, 2],\n",
       "       [2, 1, 0]])"
      ]
     },
     "execution_count": 115,
     "metadata": {},
     "output_type": "execute_result"
    }
   ],
   "source": [
    "arr.argsort(axis = 1) #this will sort on the behalf of column and show the output in indexing."
   ]
  },
  {
   "cell_type": "code",
   "execution_count": 114,
   "id": "f9ff9d52",
   "metadata": {},
   "outputs": [
    {
     "name": "stdout",
     "output_type": "stream",
     "text": [
      "[[1 2 3]\n",
      " [4 5 6]\n",
      " [7 1 0]]\n"
     ]
    }
   ],
   "source": [
    "print(arr)"
   ]
  },
  {
   "cell_type": "code",
   "execution_count": 116,
   "id": "45e7f061",
   "metadata": {},
   "outputs": [
    {
     "data": {
      "text/plain": [
       "array([[0, 1, 2],\n",
       "       [0, 1, 2],\n",
       "       [2, 1, 0]])"
      ]
     },
     "execution_count": 116,
     "metadata": {},
     "output_type": "execute_result"
    }
   ],
   "source": [
    "arr.argsort(axis = 1)"
   ]
  },
  {
   "cell_type": "code",
   "execution_count": 117,
   "id": "08eef4d4",
   "metadata": {},
   "outputs": [
    {
     "data": {
      "text/plain": [
       "array([1, 2, 3, 4, 5, 6, 7, 1, 0])"
      ]
     },
     "execution_count": 117,
     "metadata": {},
     "output_type": "execute_result"
    }
   ],
   "source": [
    " arr.ravel()"
   ]
  },
  {
   "cell_type": "code",
   "execution_count": 118,
   "id": "0a24c845",
   "metadata": {},
   "outputs": [
    {
     "data": {
      "text/plain": [
       "array([[1],\n",
       "       [2],\n",
       "       [3],\n",
       "       [4],\n",
       "       [5],\n",
       "       [6],\n",
       "       [7],\n",
       "       [1],\n",
       "       [0]])"
      ]
     },
     "execution_count": 118,
     "metadata": {},
     "output_type": "execute_result"
    }
   ],
   "source": [
    "arr.reshape((9,1))"
   ]
  },
  {
   "cell_type": "code",
   "execution_count": 130,
   "id": "66a9283f",
   "metadata": {},
   "outputs": [
    {
     "data": {
      "text/plain": [
       "array([[1, 2, 3],\n",
       "       [4, 5, 6],\n",
       "       [7, 1, 0]])"
      ]
     },
     "execution_count": 130,
     "metadata": {},
     "output_type": "execute_result"
    }
   ],
   "source": [
    "arr"
   ]
  },
  {
   "cell_type": "code",
   "execution_count": 140,
   "id": "702249e5",
   "metadata": {},
   "outputs": [],
   "source": [
    "arr1 = np.array([[1,1,1],[2,2,2],[3,3,3]])"
   ]
  },
  {
   "cell_type": "code",
   "execution_count": 141,
   "id": "540bf3b4",
   "metadata": {},
   "outputs": [
    {
     "data": {
      "text/plain": [
       "array([[1, 1, 1],\n",
       "       [2, 2, 2],\n",
       "       [3, 3, 3]])"
      ]
     },
     "execution_count": 141,
     "metadata": {},
     "output_type": "execute_result"
    }
   ],
   "source": [
    "arr1"
   ]
  },
  {
   "cell_type": "code",
   "execution_count": 142,
   "id": "6a2511e9",
   "metadata": {},
   "outputs": [
    {
     "data": {
      "text/plain": [
       "array([[ 2,  3,  4],\n",
       "       [ 6,  7,  8],\n",
       "       [10,  4,  3]])"
      ]
     },
     "execution_count": 142,
     "metadata": {},
     "output_type": "execute_result"
    }
   ],
   "source": [
    "arr + arr1"
   ]
  },
  {
   "cell_type": "code",
   "execution_count": 143,
   "id": "28e327b7",
   "metadata": {},
   "outputs": [
    {
     "data": {
      "text/plain": [
       "[200, 100, 5, 4]"
      ]
     },
     "execution_count": 143,
     "metadata": {},
     "output_type": "execute_result"
    }
   ],
   "source": [
    " [200,100]+[5,4] "
   ]
  },
  {
   "cell_type": "code",
   "execution_count": 144,
   "id": "d169d823",
   "metadata": {},
   "outputs": [
    {
     "data": {
      "text/plain": [
       "array([[ 1,  2,  3],\n",
       "       [ 8, 10, 12],\n",
       "       [21,  3,  0]])"
      ]
     },
     "execution_count": 144,
     "metadata": {},
     "output_type": "execute_result"
    }
   ],
   "source": [
    "arr*arr1"
   ]
  },
  {
   "cell_type": "code",
   "execution_count": 146,
   "id": "85b75ad2",
   "metadata": {},
   "outputs": [
    {
     "data": {
      "text/plain": [
       "29"
      ]
     },
     "execution_count": 146,
     "metadata": {},
     "output_type": "execute_result"
    }
   ],
   "source": [
    "arr.sum()"
   ]
  },
  {
   "cell_type": "code",
   "execution_count": 148,
   "id": "782dc31c",
   "metadata": {},
   "outputs": [
    {
     "data": {
      "text/plain": [
       "0"
      ]
     },
     "execution_count": 148,
     "metadata": {},
     "output_type": "execute_result"
    }
   ],
   "source": [
    "arr.min()\n"
   ]
  },
  {
   "cell_type": "code",
   "execution_count": 149,
   "id": "15654bc9",
   "metadata": {},
   "outputs": [
    {
     "data": {
      "text/plain": [
       "7"
      ]
     },
     "execution_count": 149,
     "metadata": {},
     "output_type": "execute_result"
    }
   ],
   "source": [
    "arr.max()"
   ]
  },
  {
   "cell_type": "code",
   "execution_count": 150,
   "id": "c40e05a9",
   "metadata": {},
   "outputs": [
    {
     "data": {
      "text/plain": [
       "(array([1, 2]), array([2, 0]))"
      ]
     },
     "execution_count": 150,
     "metadata": {},
     "output_type": "execute_result"
    }
   ],
   "source": [
    "np.where(arr>5)"
   ]
  },
  {
   "cell_type": "code",
   "execution_count": 152,
   "id": "b140d6be",
   "metadata": {},
   "outputs": [
    {
     "data": {
      "text/plain": [
       "tuple"
      ]
     },
     "execution_count": 152,
     "metadata": {},
     "output_type": "execute_result"
    }
   ],
   "source": [
    "type(np.where(arr>5))"
   ]
  },
  {
   "cell_type": "markdown",
   "id": "6b0fc7dc",
   "metadata": {},
   "source": [
    "# Just focus on the ATTRIBUTES and METHODS."
   ]
  }
 ],
 "metadata": {
  "kernelspec": {
   "display_name": "Python 3 (ipykernel)",
   "language": "python",
   "name": "python3"
  },
  "language_info": {
   "codemirror_mode": {
    "name": "ipython",
    "version": 3
   },
   "file_extension": ".py",
   "mimetype": "text/x-python",
   "name": "python",
   "nbconvert_exporter": "python",
   "pygments_lexer": "ipython3",
   "version": "3.11.3"
  }
 },
 "nbformat": 4,
 "nbformat_minor": 5
}
